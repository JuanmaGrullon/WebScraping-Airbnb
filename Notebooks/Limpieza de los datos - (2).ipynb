{
 "cells": [
  {
   "cell_type": "markdown",
   "metadata": {},
   "source": [
    "# Limpieza"
   ]
  },
  {
   "cell_type": "code",
   "execution_count": 1,
   "metadata": {},
   "outputs": [],
   "source": [
    "import pandas as pd\n",
    "import re\n",
    "from sklearn.impute import KNNImputer\n",
    "from sklearn.pipeline import Pipeline\n",
    "from sklearn.model_selection import train_test_split, GridSearchCV\n",
    "from sklearn.ensemble import RandomForestRegressor\n",
    "from sklearn.metrics import mean_squared_error"
   ]
  },
  {
   "cell_type": "code",
   "execution_count": 3,
   "metadata": {},
   "outputs": [
    {
     "data": {
      "text/plain": [
       "'c:\\\\Users\\\\ADMIN\\\\Desktop\\\\Proyecto Final de Maestria\\\\Notebooks'"
      ]
     },
     "execution_count": 3,
     "metadata": {},
     "output_type": "execute_result"
    }
   ],
   "source": [
    "%pwd"
   ]
  },
  {
   "cell_type": "code",
   "execution_count": 2,
   "metadata": {},
   "outputs": [],
   "source": [
    "df_Hospedajes = pd.read_excel('../data_out/Hospedajes_RD.xlsx')"
   ]
  },
  {
   "cell_type": "code",
   "execution_count": 3,
   "metadata": {},
   "outputs": [
    {
     "name": "stdout",
     "output_type": "stream",
     "text": [
      "<class 'pandas.core.frame.DataFrame'>\n",
      "RangeIndex: 5038 entries, 0 to 5037\n",
      "Data columns (total 23 columns):\n",
      " #   Column                   Non-Null Count  Dtype  \n",
      "---  ------                   --------------  -----  \n",
      " 0   ID                       5038 non-null   int64  \n",
      " 1   titulo                   5025 non-null   object \n",
      " 2   Descripcion_alojamiento  5038 non-null   object \n",
      " 3   tipo_hospedaje           5027 non-null   object \n",
      " 4   Ubicacion                5038 non-null   object \n",
      " 5   precio                   4877 non-null   object \n",
      " 6   max_personas             4748 non-null   float64\n",
      " 7   habitaciones             4722 non-null   float64\n",
      " 8   camas                    4045 non-null   float64\n",
      " 9   baños                    4442 non-null   float64\n",
      " 10  super_anfitrion          5038 non-null   object \n",
      " 11  cantidad_evaluaciones    2229 non-null   float64\n",
      " 12  rating_total             2229 non-null   float64\n",
      " 13  limpieza                 2534 non-null   float64\n",
      " 14  veracidad                2534 non-null   float64\n",
      " 15  llegada                  2541 non-null   object \n",
      " 16  comunicacion             2535 non-null   object \n",
      " 17  ubicacion_calif          2542 non-null   object \n",
      " 18  calidad_precio           2534 non-null   float64\n",
      " 19  Reservacion_Inmediata    5038 non-null   int64  \n",
      " 20  Llegada_Autonoma         5038 non-null   int64  \n",
      " 21  Cancelacion_Gratuita     5038 non-null   int64  \n",
      " 22  Aceptan_Mascotas         5038 non-null   int64  \n",
      "dtypes: float64(9), int64(5), object(9)\n",
      "memory usage: 905.4+ KB\n"
     ]
    }
   ],
   "source": [
    "df_Hospedajes.info()"
   ]
  },
  {
   "cell_type": "markdown",
   "metadata": {},
   "source": [
    "Cambiamos nombre de columnas a nombres mas intuitivos"
   ]
  },
  {
   "cell_type": "code",
   "execution_count": 4,
   "metadata": {},
   "outputs": [],
   "source": [
    "df_Hospedajes = df_Hospedajes.rename(columns={\n",
    "    'ID': 'ID_ALOJAMIENTO',\n",
    "    'titulo': 'TITULO_ALOJAMIENTO', \n",
    "    'Descripcion_alojamiento':'TIPO_ALOJAMIENTO',\n",
    "    'tipo_hospedaje': 'ESPACIO_ALOJAMIENTO', \n",
    "    'Ubicacion':'UBICACION',\n",
    "    'precio': 'PRECIO_USD', \n",
    "    'max_personas': 'MAX_HUESPEDES', \n",
    "    'habitaciones': 'CANTIDAD_HABITACIONES', \n",
    "    'camas': 'CANTIDAD_CAMAS', \n",
    "    'baños': 'CANTIDAD_BAÑOS', \n",
    "    'super_anfitrion':'ES_SUPER_ANFITRION',\n",
    "    'cantidad_evaluaciones': 'CANTIDAD_EVALUACIONES', \n",
    "    'rating_total': 'CALIFICACION_GENERAL', \n",
    "    'limpieza': 'CALIFICACION_LIMPIEZA', \n",
    "    'veracidad': 'CALIFICACION_VERACIDAD', \n",
    "    'llegada': 'CALIFICACION_LLEGADA', \n",
    "    'comunicacion': 'CALIFICACION_COMUNICACION', \n",
    "    'ubicacion_calif': 'CALIFICACION_UBICACION', \n",
    "    'calidad_precio': 'CALIFICACION_CALIDAD_PRECIO',\n",
    "    'Reservacion_Inmediata':'FLAG_RESERV_INMEDIATA',\n",
    "    'Llegada_Autonoma':'FLAG_LLEGADA_AUTONOMA',\n",
    "    'Cancelacion_Gratuita':'FLAG_CANCELAC_GRATUITA',\n",
    "    'Aceptan_Mascotas':'FLAG_ACEPT_MASCOTAS'\n",
    "})"
   ]
  },
  {
   "cell_type": "code",
   "execution_count": 5,
   "metadata": {},
   "outputs": [
    {
     "data": {
      "text/plain": [
       "Index(['ID_ALOJAMIENTO', 'TITULO_ALOJAMIENTO', 'TIPO_ALOJAMIENTO',\n",
       "       'ESPACIO_ALOJAMIENTO', 'UBICACION', 'PRECIO_USD', 'MAX_HUESPEDES',\n",
       "       'CANTIDAD_HABITACIONES', 'CANTIDAD_CAMAS', 'CANTIDAD_BAÑOS',\n",
       "       'ES_SUPER_ANFITRION', 'CANTIDAD_EVALUACIONES', 'CALIFICACION_GENERAL',\n",
       "       'CALIFICACION_LIMPIEZA', 'CALIFICACION_VERACIDAD',\n",
       "       'CALIFICACION_LLEGADA', 'CALIFICACION_COMUNICACION',\n",
       "       'CALIFICACION_UBICACION', 'CALIFICACION_CALIDAD_PRECIO',\n",
       "       'FLAG_RESERV_INMEDIATA', 'FLAG_LLEGADA_AUTONOMA',\n",
       "       'FLAG_CANCELAC_GRATUITA', 'FLAG_ACEPT_MASCOTAS'],\n",
       "      dtype='object')"
      ]
     },
     "execution_count": 5,
     "metadata": {},
     "output_type": "execute_result"
    }
   ],
   "source": [
    "df_Hospedajes.columns"
   ]
  },
  {
   "cell_type": "markdown",
   "metadata": {},
   "source": [
    "Aquellos registros vacios lo identificamos como \"No encontrado\""
   ]
  },
  {
   "cell_type": "code",
   "execution_count": 6,
   "metadata": {},
   "outputs": [],
   "source": [
    "columnas = [\n",
    "    'TITULO_ALOJAMIENTO', 'ESPACIO_ALOJAMIENTO', 'PRECIO_USD', 'MAX_HUESPEDES', 'CANTIDAD_HABITACIONES', \n",
    "    'CANTIDAD_CAMAS', 'CANTIDAD_BAÑOS', 'CANTIDAD_EVALUACIONES', 'CALIFICACION_GENERAL', 'CALIFICACION_LIMPIEZA', \n",
    "    'CALIFICACION_VERACIDAD', 'CALIFICACION_LLEGADA', 'CALIFICACION_COMUNICACION', 'CALIFICACION_UBICACION', 'CALIFICACION_CALIDAD_PRECIO'\n",
    "]\n",
    "\n",
    "# Imputar valores faltantes\n",
    "for columna in columnas:\n",
    "    df_Hospedajes[columna] = df_Hospedajes[columna].fillna('No encontrado')\n"
   ]
  },
  {
   "cell_type": "markdown",
   "metadata": {},
   "source": [
    "Tipo de alojamiento"
   ]
  },
  {
   "cell_type": "code",
   "execution_count": 7,
   "metadata": {},
   "outputs": [],
   "source": [
    "# Definir una función para categorizar el tipo de alojamiento\n",
    "def categorizar_alojamiento(tipo):\n",
    "    if 'habitacion' in tipo.lower() or 'habitación' in tipo.lower():\n",
    "        return 'Habitación'\n",
    "    else:\n",
    "        return 'Alojamiento entero'\n",
    "\n",
    "# Aplicar la función a la columna 'TIPO_ALOJAMIENTO'\n",
    "df_Hospedajes['ESPACIO_ALOJAMIENTO'] = df_Hospedajes['ESPACIO_ALOJAMIENTO'].apply(categorizar_alojamiento)"
   ]
  },
  {
   "cell_type": "markdown",
   "metadata": {},
   "source": [
    "Ubicacion"
   ]
  },
  {
   "cell_type": "code",
   "execution_count": 14,
   "metadata": {},
   "outputs": [],
   "source": [
    "# Definir el diccionario de ubicaciones específicas a ciudades\n",
    "ubicaciones_a_ciudades = {\n",
    "    \"Santo Domingo\": \"Santo Domingo\",\n",
    "    \"Punta Cana\": \"Punta Cana\",\n",
    "    \"Boca Chica\": \"Boca Chica\",\n",
    "    \"Juan Dolio\": \"Juan Dolio\",\n",
    "    \"Juandolio\":\"Juan Dolio\",\n",
    "    \"Puerto Plata\": \"Puerto Plata\",\n",
    "    \"Puerta Plata\":\"Puerto Plata\",\n",
    "    \"La Romana\": \"La Romana\",\n",
    "    \"Bayahibe\": \"Bayahibe\",\n",
    "    \"Bayahíbe\": \"Bayahibe\",\n",
    "    \"Cabarete\": \"Cabarete\",\n",
    "    \"Sosua\": \"Sosua\",\n",
    "    \"Sosúa\": \"Sosua\",\n",
    "    \"Samaná\": \"Samaná\",\n",
    "    \"Samana\": \"Samaná\",\n",
    "    \"Bavaro\":\"Bávaro\",\n",
    "    \"Bávaro\":\"Bávaro\",\n",
    "    \"Cap Cana\":\"Punta Cana\",\n",
    "    \"Guayacanes\":\"Guayacanes\",\n",
    "    \"Dominicus\":\"Dominicus\",\n",
    "    \"Gaspar\":\"Cabarete\",\n",
    "    \"La Altagracia\": \"Bayahibe\",\n",
    "    \"Los Melones\": \"Bayahibe\",\n",
    "    \"Sabana\":\"Samaná\",\n",
    "    \"San Pedro de Macoris\":\"Juan Dolio\",\n",
    "    \"San Pedro de Macorís\":\"Juan Dolio\",\n",
    "    \"Santiago\":\"Santiago\",\n",
    "    \"Avenida Charles de Gaulle\":\"Santo Domingo\",\n",
    "    \"Los Ríos\":\"Santo Domingo\"\n",
    "}\n",
    "\n",
    "# Definir la función para categorizar la ubicación\n",
    "def categorizar_ubicacion(row):\n",
    "    ubicacion = row['UBICACION']\n",
    "    if ubicacion.lower() in [\"no encontrado\", \"república dominicana\"]:\n",
    "        ubicacion = row['TIPO_ALOJAMIENTO']\n",
    "    for lugar, ciudad in ubicaciones_a_ciudades.items():\n",
    "        if lugar.lower() in ubicacion.lower():\n",
    "            return ciudad\n",
    "    return row['UBICACION']  # Devolver la misma ubicación si no coincide con ninguna especificada\n",
    "\n",
    "# Aplicar la función a las filas del DataFrame\n",
    "df_Hospedajes['UBICACION'] = df_Hospedajes.apply(categorizar_ubicacion, axis=1)\n"
   ]
  },
  {
   "cell_type": "code",
   "execution_count": 15,
   "metadata": {},
   "outputs": [
    {
     "data": {
      "text/plain": [
       "array(['Bayahibe', 'Santo Domingo', 'Puerto Plata', 'La Romana',\n",
       "       'Guayacanes', 'Juan Dolio', 'Samaná', 'Punta Cana', 'Cabarete',\n",
       "       'Santiago', 'Boca Chica', 'Bávaro', 'Sosua', 'Dominicus'],\n",
       "      dtype=object)"
      ]
     },
     "execution_count": 15,
     "metadata": {},
     "output_type": "execute_result"
    }
   ],
   "source": [
    "# Verificar el resultado\n",
    "df_Hospedajes['UBICACION'].unique()"
   ]
  },
  {
   "cell_type": "markdown",
   "metadata": {},
   "source": [
    "Precio"
   ]
  },
  {
   "cell_type": "code",
   "execution_count": 17,
   "metadata": {},
   "outputs": [],
   "source": [
    "# Definir la función para limpiar el precio\n",
    "def limpiar_precio(precio):\n",
    "    if precio == \"No encontrado\":\n",
    "        return precio\n",
    "    else:\n",
    "        # Extraer solo los caracteres numéricos\n",
    "        return float(re.sub(r'[^\\d.]', '', precio))\n",
    "\n",
    "# Aplicar la función a la columna 'PRECIO_USD'\n",
    "df_Hospedajes['PRECIO_USD'] = df_Hospedajes['PRECIO_USD'].apply(limpiar_precio)"
   ]
  },
  {
   "cell_type": "code",
   "execution_count": 18,
   "metadata": {},
   "outputs": [
    {
     "name": "stdout",
     "output_type": "stream",
     "text": [
      "0      48.0\n",
      "1      65.0\n",
      "2     600.0\n",
      "3    2500.0\n",
      "4      39.0\n",
      "Name: PRECIO_USD, dtype: object\n"
     ]
    }
   ],
   "source": [
    "# Verificar el resultado\n",
    "print(df_Hospedajes['PRECIO_USD'].head())"
   ]
  },
  {
   "cell_type": "markdown",
   "metadata": {},
   "source": [
    "Calificaciones"
   ]
  },
  {
   "cell_type": "code",
   "execution_count": 19,
   "metadata": {},
   "outputs": [],
   "source": [
    "# Definir la función para limpiar las calificaciones\n",
    "def limpiar_calificacion(calificacion):\n",
    "    try:\n",
    "        # Intentar convertir a float\n",
    "        calificacion = float(calificacion)\n",
    "        return calificacion\n",
    "    except ValueError:\n",
    "        # Si no es un número y no es \"No encontrado\", devolver \"No encontrado\"\n",
    "        if calificacion == \"No encontrado\":\n",
    "            return calificacion\n",
    "        else:\n",
    "            return \"No encontrado\"\n",
    "\n",
    "# Aplicar la función a las columnas de calificaciones\n",
    "calificacion_columnas = ['CALIFICACION_LLEGADA', 'CALIFICACION_COMUNICACION', 'CALIFICACION_UBICACION']\n",
    "for columna in calificacion_columnas:\n",
    "    df_Hospedajes[columna] = df_Hospedajes[columna].apply(limpiar_calificacion)"
   ]
  },
  {
   "cell_type": "code",
   "execution_count": 20,
   "metadata": {},
   "outputs": [
    {
     "data": {
      "text/html": [
       "<div>\n",
       "<style scoped>\n",
       "    .dataframe tbody tr th:only-of-type {\n",
       "        vertical-align: middle;\n",
       "    }\n",
       "\n",
       "    .dataframe tbody tr th {\n",
       "        vertical-align: top;\n",
       "    }\n",
       "\n",
       "    .dataframe thead th {\n",
       "        text-align: right;\n",
       "    }\n",
       "</style>\n",
       "<table border=\"1\" class=\"dataframe\">\n",
       "  <thead>\n",
       "    <tr style=\"text-align: right;\">\n",
       "      <th></th>\n",
       "      <th>CALIFICACION_LLEGADA</th>\n",
       "      <th>CALIFICACION_COMUNICACION</th>\n",
       "      <th>CALIFICACION_UBICACION</th>\n",
       "    </tr>\n",
       "  </thead>\n",
       "  <tbody>\n",
       "    <tr>\n",
       "      <th>0</th>\n",
       "      <td>No encontrado</td>\n",
       "      <td>No encontrado</td>\n",
       "      <td>No encontrado</td>\n",
       "    </tr>\n",
       "    <tr>\n",
       "      <th>1</th>\n",
       "      <td>4.6</td>\n",
       "      <td>4.8</td>\n",
       "      <td>4.0</td>\n",
       "    </tr>\n",
       "    <tr>\n",
       "      <th>2</th>\n",
       "      <td>No encontrado</td>\n",
       "      <td>No encontrado</td>\n",
       "      <td>No encontrado</td>\n",
       "    </tr>\n",
       "    <tr>\n",
       "      <th>3</th>\n",
       "      <td>No encontrado</td>\n",
       "      <td>No encontrado</td>\n",
       "      <td>No encontrado</td>\n",
       "    </tr>\n",
       "    <tr>\n",
       "      <th>4</th>\n",
       "      <td>4.9</td>\n",
       "      <td>5.0</td>\n",
       "      <td>4.8</td>\n",
       "    </tr>\n",
       "    <tr>\n",
       "      <th>...</th>\n",
       "      <td>...</td>\n",
       "      <td>...</td>\n",
       "      <td>...</td>\n",
       "    </tr>\n",
       "    <tr>\n",
       "      <th>495</th>\n",
       "      <td>No encontrado</td>\n",
       "      <td>No encontrado</td>\n",
       "      <td>No encontrado</td>\n",
       "    </tr>\n",
       "    <tr>\n",
       "      <th>496</th>\n",
       "      <td>5.0</td>\n",
       "      <td>4.9</td>\n",
       "      <td>4.8</td>\n",
       "    </tr>\n",
       "    <tr>\n",
       "      <th>497</th>\n",
       "      <td>4.7</td>\n",
       "      <td>4.7</td>\n",
       "      <td>4.8</td>\n",
       "    </tr>\n",
       "    <tr>\n",
       "      <th>498</th>\n",
       "      <td>No encontrado</td>\n",
       "      <td>No encontrado</td>\n",
       "      <td>No encontrado</td>\n",
       "    </tr>\n",
       "    <tr>\n",
       "      <th>499</th>\n",
       "      <td>5.0</td>\n",
       "      <td>5.0</td>\n",
       "      <td>4.9</td>\n",
       "    </tr>\n",
       "  </tbody>\n",
       "</table>\n",
       "<p>500 rows × 3 columns</p>\n",
       "</div>"
      ],
      "text/plain": [
       "    CALIFICACION_LLEGADA CALIFICACION_COMUNICACION CALIFICACION_UBICACION\n",
       "0          No encontrado             No encontrado          No encontrado\n",
       "1                    4.6                       4.8                    4.0\n",
       "2          No encontrado             No encontrado          No encontrado\n",
       "3          No encontrado             No encontrado          No encontrado\n",
       "4                    4.9                       5.0                    4.8\n",
       "..                   ...                       ...                    ...\n",
       "495        No encontrado             No encontrado          No encontrado\n",
       "496                  5.0                       4.9                    4.8\n",
       "497                  4.7                       4.7                    4.8\n",
       "498        No encontrado             No encontrado          No encontrado\n",
       "499                  5.0                       5.0                    4.9\n",
       "\n",
       "[500 rows x 3 columns]"
      ]
     },
     "execution_count": 20,
     "metadata": {},
     "output_type": "execute_result"
    }
   ],
   "source": [
    "# Verificar el resultado\n",
    "df_Hospedajes[calificacion_columnas].head(500)"
   ]
  },
  {
   "cell_type": "markdown",
   "metadata": {},
   "source": [
    "Tipo de alojamiento"
   ]
  },
  {
   "cell_type": "code",
   "execution_count": 26,
   "metadata": {},
   "outputs": [],
   "source": [
    "# Definir el diccionario de mapeo de tipos de alojamiento\n",
    "mapeo_tipos_alojamiento = {\n",
    "    \"Apartotel\": \"Apartotel\",\n",
    "    \"Complejo turístico\": \"Apartotel\",\n",
    "    \"Condominio\": \"Apartotel\",\n",
    "    \"Residencia\": \"Apartotel\",\n",
    "    \"Casa de huéspedes\": \"Hostal\",\n",
    "    \"Casa particular\": \"Hostal\",\n",
    "    \"Hostal\": \"Hostal\",\n",
    "    \"Bed and breakfast\": \"Hostal\",\n",
    "    \"Hotel\": \"Hotel\",\n",
    "    \"Hotel boutique\": \"Hotel\",\n",
    "    \"Habitación de hotel\": \"Hotel\",\n",
    "    \"Casa adosada\": \"Casa\",\n",
    "    \"Casa de arcilla\": \"Casa\",\n",
    "    \"Casa de campo\": \"Casa\",\n",
    "    \"Isla\": \"Casa\",\n",
    "    \"Castillo\": \"Casa\",\n",
    "    \"Chalet\": \"Cabaña\",\n",
    "    \"Cabaña\": \"Cabaña\",\n",
    "    \"Bungalow\": \"Cabaña\",\n",
    "    \"Casa rodante\": \"Cabaña\",\n",
    "    \"Minicasa\": \"Cabaña\",\n",
    "    \"Domo\": \"Cabaña\",\n",
    "    \"Suite\": \"Apartamento\",\n",
    "    \"Loft\": \"Apartamento\",\n",
    "    \"Departamento\": \"Apartamento\",\n",
    "    \"Alojamiento\": \"Alojamiento\",\n",
    "    \"Lugar para hospedarte\": \"Alojamiento\",\n",
    "    \"Villa\": \"Villa\",\n",
    "    \"Barco\": \"Barco\",\n",
    "    \"Habitación compartida\": \"Habitación\",\n",
    "    \"Habitación\": \"Habitación\"\n",
    "}\n",
    "\n",
    "# Función para ajustar el tipo de alojamiento según la condición especial\n",
    "def ajustar_tipo_alojamiento(row):\n",
    "    tipo_alojamiento = row['TIPO_ALOJAMIENTO']\n",
    "    espacio_alojamiento = row['ESPACIO_ALOJAMIENTO']\n",
    "    \n",
    "    # Buscar en el diccionario de mapeo\n",
    "    for key, value in mapeo_tipos_alojamiento.items():\n",
    "        if key.lower() in tipo_alojamiento.lower():\n",
    "            tipo_alojamiento_mapeado = value\n",
    "            break\n",
    "    else:\n",
    "        tipo_alojamiento_mapeado = tipo_alojamiento  # Si no se encuentra, dejar el original\n",
    "\n",
    "    # Condición especial para habitaciones\n",
    "    if tipo_alojamiento_mapeado in [\"Habitación\", \"Habitación compartida\"] and espacio_alojamiento == \"Alojamiento entero\":\n",
    "        return \"Casa\"\n",
    "    else:\n",
    "        return tipo_alojamiento_mapeado\n",
    "\n",
    "# Aplicar la función a las filas del DataFrame\n",
    "df_Hospedajes['TIPO_ALOJAMIENTO'] = df_Hospedajes.apply(ajustar_tipo_alojamiento, axis=1)\n"
   ]
  },
  {
   "cell_type": "code",
   "execution_count": 27,
   "metadata": {},
   "outputs": [
    {
     "data": {
      "text/plain": [
       "array(['Apartamento', 'Habitación', 'Apartotel', 'Casa', 'Hotel', 'Villa',\n",
       "       'Alojamiento', 'Hostal', 'Cabaña', 'Barco'], dtype=object)"
      ]
     },
     "execution_count": 27,
     "metadata": {},
     "output_type": "execute_result"
    }
   ],
   "source": [
    "# Verificar el resultado\n",
    "df_Hospedajes['TIPO_ALOJAMIENTO'].unique()"
   ]
  },
  {
   "cell_type": "markdown",
   "metadata": {},
   "source": [
    "ES_SUPER_ANFITRION"
   ]
  },
  {
   "cell_type": "code",
   "execution_count": 29,
   "metadata": {},
   "outputs": [],
   "source": [
    "# Reemplazar los valores en la columna 'ES_ANFITRION'\n",
    "df_Hospedajes['ES_SUPER_ANFITRION'] = df_Hospedajes['ES_SUPER_ANFITRION'].replace({'SI': 1, 'NO': 0})"
   ]
  },
  {
   "cell_type": "markdown",
   "metadata": {},
   "source": [
    "EXPORT"
   ]
  },
  {
   "cell_type": "code",
   "execution_count": 30,
   "metadata": {},
   "outputs": [],
   "source": [
    "df_Hospedajes.to_excel('../data_out/Hospedajes_RD-CLEANED.xlsx', index=False)"
   ]
  }
 ],
 "metadata": {
  "kernelspec": {
   "display_name": "base",
   "language": "python",
   "name": "python3"
  },
  "language_info": {
   "codemirror_mode": {
    "name": "ipython",
    "version": 3
   },
   "file_extension": ".py",
   "mimetype": "text/x-python",
   "name": "python",
   "nbconvert_exporter": "python",
   "pygments_lexer": "ipython3",
   "version": "3.11.5"
  }
 },
 "nbformat": 4,
 "nbformat_minor": 2
}
